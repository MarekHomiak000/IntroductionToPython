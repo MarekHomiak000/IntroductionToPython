{
 "cells": [
  {
   "cell_type": "code",
   "execution_count": 9,
   "metadata": {},
   "outputs": [
    {
     "name": "stdout",
     "output_type": "stream",
     "text": [
      "10\n",
      "finally\n"
     ]
    }
   ],
   "source": [
    "nums = [4, 1, 2, 3]\n",
    " \n",
    "try:\n",
    "   print(sum(nums))\n",
    " \n",
    "except:\n",
    "   print('Cannot print the sum! Your variables are not numbers.')\n",
    "\n",
    "finally:\n",
    "   print(\"finally\")\n",
    "   "
   ]
  }
 ],
 "metadata": {
  "kernelspec": {
   "display_name": "base",
   "language": "python",
   "name": "python3"
  },
  "language_info": {
   "codemirror_mode": {
    "name": "ipython",
    "version": 3
   },
   "file_extension": ".py",
   "mimetype": "text/x-python",
   "name": "python",
   "nbconvert_exporter": "python",
   "pygments_lexer": "ipython3",
   "version": "3.12.7"
  }
 },
 "nbformat": 4,
 "nbformat_minor": 2
}
