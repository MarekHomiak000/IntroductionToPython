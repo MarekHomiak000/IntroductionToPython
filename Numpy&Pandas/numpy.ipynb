{
 "cells": [
  {
   "cell_type": "code",
   "execution_count": null,
   "metadata": {},
   "outputs": [],
   "source": [
    "import numpy as np\n",
    "import array"
   ]
  },
  {
   "cell_type": "code",
   "execution_count": null,
   "metadata": {},
   "outputs": [],
   "source": [
    "#PYTHON VS NUMPY\n",
    "python_arr = array.array('i',[1, 2, 3, 4, 5],)\n",
    "print(python_arr)\n",
    "print(type(python_arr))\n",
    "\n",
    "numpy_arr = np.array([[1, 2, 3], [4, 5.0, \"z\"]])\n",
    "print(numpy_arr)\n",
    "print(numpy_arr.dtype)"
   ]
  },
  {
   "cell_type": "code",
   "execution_count": null,
   "metadata": {},
   "outputs": [],
   "source": [
    "#TVAR A UPRAVA\n",
    "numpy_arr = np.array([[1, 2, 3], [4, 5, 6]])\n",
    "\n",
    "print(\"povodny: \\n\", numpy_arr)\n",
    "print(\"tvar: \", numpy_arr.shape)\n",
    "print(\"velkost: \", numpy_arr.size)\n",
    "\n",
    "reshaped = numpy_arr.reshape(3, 2)\n",
    "print(\"reshaped: \\n\", reshaped)\n",
    "\n",
    "flattened = numpy_arr.flatten()\n",
    "print(\"flattened: \\n\", flattened)\n"
   ]
  },
  {
   "cell_type": "code",
   "execution_count": null,
   "metadata": {},
   "outputs": [],
   "source": [
    "#ROZNE INICIALIZACIE POLI\n",
    "all_zeroes = np.zeros((2, 3), dtype=int, order='C') #riadkove poradie\n",
    "print(\"all_zeroes: \\n\", all_zeroes)\n",
    "\n",
    "all_ones = np.ones((1, 6), dtype=float, order='F') #stlpcove poradie\n",
    "print(\"all_ones: \\n\", all_ones)\n",
    "\n",
    "fill_value = \"x\"\n",
    "full = np.full((2, 4), fill_value, dtype=None)\n",
    "print(\"full: \\n\", full)\n",
    "\n",
    "empty = np.empty((2, 3), dtype=float)\n",
    "print(\"empty: \\n\", empty)\n"
   ]
  },
  {
   "cell_type": "code",
   "execution_count": null,
   "metadata": {},
   "outputs": [],
   "source": [
    "#GENEROVANIE ROZSAHOV\n",
    "arr_range = np.arange(1, 7) #mozme pridat step\n",
    "print(\"range 1D: \\n\", arr_range)\n",
    "\n",
    "arr_range_2d = np.arange(1, 7). reshape(2, 3)\n",
    "print(\"range 2D: \\n\", arr_range_2d)\n",
    "\n",
    "arr_linspace = np.linspace(1, 7, num=10, dtype=float, endpoint=True)\n",
    "print(\"range linspace: \\n\", arr_linspace)\n"
   ]
  },
  {
   "cell_type": "code",
   "execution_count": null,
   "metadata": {},
   "outputs": [],
   "source": [
    "#PRIDAVANIE PRVKOV\n",
    "arr = np.arange(1, 7).reshape(2, 3)\n",
    "print(\"arr: \\n\", arr)\n",
    "\n",
    "arr2 = [1, 2]\n",
    "arr2 = np.array(arr2).reshape(2, 1)\n",
    "hstack_result = np.hstack((arr, arr2)) #pridavanie po stlpcoch !!!musime zmenit na spravny rvar\n",
    "print(\"hstack_result: \\n\", hstack_result)\n",
    "\n",
    "arr3 = [7, 8, 9]\n",
    "vstack_result = np.vstack((arr, arr3))\n",
    "print(\"vstack_result: \\n\", vstack_result) #pridavanie po riadkoch\n"
   ]
  },
  {
   "cell_type": "code",
   "execution_count": null,
   "metadata": {},
   "outputs": [],
   "source": [
    "#INDEXOVANIE A SLICING\n",
    "arr = np.arange(1,10).reshape(3, 3)\n",
    "print(\"arr: \\n\", arr)\n",
    "\n",
    "print(\"first row: \", arr[0])\n",
    "print(\"second column: \\n\", arr[:, 1])\n",
    "print(\"second row, first two values: \\n\", arr[1, :2])\n"
   ]
  },
  {
   "cell_type": "code",
   "execution_count": null,
   "metadata": {},
   "outputs": [],
   "source": [
    "#PODMIENENE INDEXOVANIE\n",
    "arr = np.arange(12).reshape(3, 4)\n",
    "print(\"arr: \\n\", arr)\n",
    "\n",
    "b = arr > 4\n",
    "print(\"hosnoty vacsie ako 4: \\n\", arr[b]) #vyberieme cisla vacsie ako 4\n",
    "\n",
    "arr[b] = 0\n",
    "print(\"hosnoty vacsie ako 4, index 0: \\n\", arr) #vynulujeme cisla vacsie ako 4"
   ]
  },
  {
   "cell_type": "code",
   "execution_count": null,
   "metadata": {},
   "outputs": [],
   "source": [
    "#ARITMETICKE OPERACIE\n",
    "arr = np.arange(12).reshape(3, 4)\n",
    "print(\"arr: \\n\", arr)\n",
    "\n",
    "arr += 1\n",
    "print(\"arr + 1: \\n\", arr)\n",
    "\n",
    "arr[0] *= 2\n",
    "print(\"arr[0] * 2: \\n\", arr)"
   ]
  },
  {
   "cell_type": "code",
   "execution_count": null,
   "metadata": {},
   "outputs": [],
   "source": [
    "#STATISTICKE METODY\n",
    "arr = np.arange(12).reshape(3, 4)\n",
    "print(\"arr: \\n\", arr)\n",
    "\n",
    "arr_max = np.max(arr)\n",
    "print(\"arr_max: \\n\", arr_max)\n",
    "\n",
    "arr_min = np.min(arr)\n",
    "print(\"arr_min: \\n\", arr_min)\n",
    "\n",
    "arr_mean = np.mean(arr) #aritmeticky priemer\n",
    "print(\"arr_mean: \\n\", arr_mean)\n",
    "\n",
    "arr_median = np.median(arr) #aitmeticky priemer v statiskike\n",
    "print(\"arr_median: \\n\", arr_median)\n",
    "\n",
    "arr_std = np.std(arr) # odchylka\n",
    "print(\"arr_std: \\n\", arr_std)\n",
    "\n",
    "arr_argmin = np.argmin(arr)\n",
    "print(\"arr_argmin: \\n\", arr_argmin)\n",
    "\n",
    "arr_argmax = np.argmax(arr)\n",
    "print(\"arr_argmax: \\n\", arr_argmax)\n"
   ]
  },
  {
   "cell_type": "code",
   "execution_count": null,
   "metadata": {},
   "outputs": [],
   "source": [
    "#MATICOVE OPERCIE\n",
    "arr = np.arange(12).reshape(3, 4)\n",
    "arr2 = np.arange(12).reshape(4, 3)\n",
    "print(\"arr: \\n\", arr)\n",
    "print(\"arr2: \\n\", arr2)\n",
    "\n",
    "transponed = np.transpose(arr)\n",
    "print(\"transposed: \\n\", transponed)\n",
    "\n",
    "arr_dot = np.dot(arr, arr2) #maticovy sucet\n",
    "print(\"arr_dot: \\n\", arr_dot)\n",
    "\n",
    "\n",
    "arr_matmul =  np.matmul(arr, arr2) # sucin s rovnakymi poliami (specificky)\n",
    "print(\"arr_matmul: \\n\", arr_matmul)\n",
    "\n"
   ]
  }
 ],
 "metadata": {
  "kernelspec": {
   "display_name": "base",
   "language": "python",
   "name": "python3"
  },
  "language_info": {
   "codemirror_mode": {
    "name": "ipython",
    "version": 3
   },
   "file_extension": ".py",
   "mimetype": "text/x-python",
   "name": "python",
   "nbconvert_exporter": "python",
   "pygments_lexer": "ipython3",
   "version": "3.12.7"
  }
 },
 "nbformat": 4,
 "nbformat_minor": 2
}
