{
 "cells": [
  {
   "cell_type": "code",
   "execution_count": null,
   "id": "880feee2",
   "metadata": {},
   "outputs": [
    {
     "name": "stdout",
     "output_type": "stream",
     "text": [
      "50\n"
     ]
    }
   ],
   "source": [
    "#1\n",
    "\n",
    "def sum_squares(nums):\n",
    "    result = 0\n",
    "    for num in nums:\n",
    "        result += num*num\n",
    "    return result\n",
    "        \n",
    "\n",
    "print(sum_squares([3,4,5]))"
   ]
  },
  {
   "cell_type": "code",
   "execution_count": 3,
   "id": "d4348169",
   "metadata": {},
   "outputs": [
    {
     "name": "stdout",
     "output_type": "stream",
     "text": [
      "['green', 'orange', 'red']\n"
     ]
    }
   ],
   "source": [
    "#2\n",
    "\n",
    "def sort_list_alphabetically(input_list): \n",
    "    return sorted(input_list)\n",
    "\n",
    "print(sort_list_alphabetically(['red', 'green', 'orange']))"
   ]
  },
  {
   "cell_type": "code",
   "execution_count": 10,
   "id": "d32e392d",
   "metadata": {},
   "outputs": [
    {
     "name": "stdout",
     "output_type": "stream",
     "text": [
      "[0, 1, 2, 3, 4, 5, 6, 7, 8, 9]\n"
     ]
    }
   ],
   "source": [
    "import random\n",
    "\n",
    "numbers = list(range(10))\n",
    "random.shuffle(numbers)\n",
    "numbers.sort()\n",
    "\n",
    "print(numbers)"
   ]
  },
  {
   "cell_type": "code",
   "execution_count": 13,
   "id": "a999475a",
   "metadata": {},
   "outputs": [
    {
     "name": "stdout",
     "output_type": "stream",
     "text": [
      "[(21, 'ABC', 33), (67, 'MNO', 37), (9, 'XYZ', 88)]\n"
     ]
    }
   ],
   "source": [
    "def sort_tuple_list(tuple_list):\n",
    "    def get_third_elem(tup):\n",
    "        return tup[2]\n",
    "    return sorted(tuple_list, key= get_third_elem)\n",
    "        \n",
    "    \n",
    "print(sort_tuple_list([(21, \"ABC\", 33), (9, \"XYZ\", 88), (67, \"MNO\", 37)]))"
   ]
  },
  {
   "cell_type": "code",
   "execution_count": 14,
   "id": "0657bd49",
   "metadata": {},
   "outputs": [
    {
     "name": "stdout",
     "output_type": "stream",
     "text": [
      "2\n"
     ]
    }
   ],
   "source": [
    "def find_value(dictionary, key):\n",
    "    return dictionary[key]\n",
    "\n",
    "print(find_value({'key1':1, 'key2':2, 'key3':3}, 'key2'))"
   ]
  },
  {
   "cell_type": "code",
   "execution_count": 20,
   "id": "b797cc42",
   "metadata": {},
   "outputs": [
    {
     "name": "stdout",
     "output_type": "stream",
     "text": [
      "['0000001', '000001', '00000111']\n"
     ]
    }
   ],
   "source": [
    "def int_to_bin(arr):\n",
    "    bin = [128, 64, 32, 16, 8, 4, 2, 1]\n",
    "    result = []\n",
    "\n",
    "    for num in arr:\n",
    "        x = []\n",
    "        for i in bin:\n",
    "            if i <= num:\n",
    "                x.append(1)\n",
    "                num -= i\n",
    "                if num == 0:\n",
    "                    break\n",
    "            else:\n",
    "                x.append(0)\n",
    "        result.append(\"\".join(map(str, x)))\n",
    "    return result\n",
    "        \n",
    "\n",
    "\n",
    "print(int_to_bin([2,4,7]))"
   ]
  },
  {
   "cell_type": "code",
   "execution_count": 21,
   "id": "a759dd78",
   "metadata": {},
   "outputs": [
    {
     "name": "stdout",
     "output_type": "stream",
     "text": [
      "['0b10', '0b100', '0b111']\n"
     ]
    }
   ],
   "source": [
    "def int_to_bin(arr):\n",
    "   binary = []\n",
    "   for num in arr:\n",
    "       binary.append(bin(num))\n",
    "   return binary\n",
    "\n",
    "arr = [2,4,7]\n",
    "bin_arr = int_to_bin(arr)\n",
    "print(bin_arr)"
   ]
  },
  {
   "cell_type": "code",
   "execution_count": 25,
   "id": "09cd9eda",
   "metadata": {},
   "outputs": [
    {
     "name": "stdout",
     "output_type": "stream",
     "text": [
      "[1, 2, 4, 5, 8, 9]\n"
     ]
    }
   ],
   "source": [
    "def sortList(lst): \n",
    "    lst.sort()\n",
    "    return lst\n",
    "\n",
    "print(sortList([5, 4, 1, 8, 9, 2]))"
   ]
  },
  {
   "cell_type": "code",
   "execution_count": 26,
   "id": "db766471",
   "metadata": {},
   "outputs": [
    {
     "name": "stdout",
     "output_type": "stream",
     "text": [
      "37.77777777777778\n"
     ]
    }
   ],
   "source": [
    "def fahrenheit_to_celsius(fahrenheit):\n",
    "    celsius = (fahrenheit - 32) * 5 / 9\n",
    "    return celsius\n",
    "\n",
    "print(fahrenheit_to_celsius(100))"
   ]
  },
  {
   "cell_type": "code",
   "execution_count": 27,
   "id": "01c28b90",
   "metadata": {},
   "outputs": [
    {
     "name": "stdout",
     "output_type": "stream",
     "text": [
      "20\n",
      "10\n",
      "5\n",
      "2\n",
      "1\n"
     ]
    }
   ],
   "source": [
    "my_list = [10,2,5,1,20]\n",
    "my_list.sort(reverse=True)\n",
    "\n",
    "for x in my_list:\n",
    "    print(x)"
   ]
  },
  {
   "cell_type": "code",
   "execution_count": 28,
   "id": "53465629",
   "metadata": {},
   "outputs": [
    {
     "name": "stdout",
     "output_type": "stream",
     "text": [
      "321\n"
     ]
    }
   ],
   "source": [
    "def reverse_int(x):\n",
    "    sign = -1 if x < 0 else 1\n",
    "    x = abs(x)\n",
    "    reversed_x = int(str(x)[::-1])\n",
    "    \n",
    "    return sign * reversed_x\n",
    "\n",
    "print(reverse_int(123))"
   ]
  },
  {
   "cell_type": "code",
   "execution_count": 39,
   "id": "b96a8223",
   "metadata": {},
   "outputs": [
    {
     "name": "stdout",
     "output_type": "stream",
     "text": [
      "2\n"
     ]
    }
   ],
   "source": [
    "def search_index(arr, target):\n",
    "    for i, num in enumerate(arr):\n",
    "        if num == target:\n",
    "            return i\n",
    "\n",
    "print(search_index([5, 7, 8, 6], 8))"
   ]
  }
 ],
 "metadata": {
  "kernelspec": {
   "display_name": "Python 3",
   "language": "python",
   "name": "python3"
  },
  "language_info": {
   "codemirror_mode": {
    "name": "ipython",
    "version": 3
   },
   "file_extension": ".py",
   "mimetype": "text/x-python",
   "name": "python",
   "nbconvert_exporter": "python",
   "pygments_lexer": "ipython3",
   "version": "3.13.2"
  }
 },
 "nbformat": 4,
 "nbformat_minor": 5
}
