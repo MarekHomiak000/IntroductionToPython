{
 "cells": [
  {
   "cell_type": "code",
   "execution_count": 1,
   "id": "fbeddc07",
   "metadata": {},
   "outputs": [
    {
     "name": "stdout",
     "output_type": "stream",
     "text": [
      "[1, 2, 3, 4, 5, 6]\n"
     ]
    }
   ],
   "source": [
    "def bubble_sort(nums):\n",
    "    nums.sort()\n",
    "    return nums\n",
    "\n",
    "print(bubble_sort([2,1,3,4,6,5]))"
   ]
  },
  {
   "cell_type": "code",
   "execution_count": 10,
   "id": "e6db89e1",
   "metadata": {},
   "outputs": [
    {
     "name": "stdout",
     "output_type": "stream",
     "text": [
      "[['*', '*', '*', '*'], ['*', '*', '*', '*'], ['*', '*', '*', '*']]\n"
     ]
    }
   ],
   "source": [
    "def generate_matrix(rows, cols):\n",
    "    matrix = []\n",
    "    for i in range(rows):\n",
    "        row = [\"*\"] * cols  # Create a row with '*' repeated 'cols' times\n",
    "        matrix.append(row)\n",
    "    return matrix\n",
    "\n",
    "# Test the function with 3 rows and 4 columns\n",
    "print(generate_matrix(3, 4))"
   ]
  },
  {
   "cell_type": "code",
   "execution_count": 14,
   "id": "e6848641",
   "metadata": {},
   "outputs": [
    {
     "name": "stdout",
     "output_type": "stream",
     "text": [
      "7\n"
     ]
    }
   ],
   "source": [
    "import random\n",
    "\n",
    "print(random.randint(1, 10))"
   ]
  },
  {
   "cell_type": "code",
   "execution_count": 15,
   "id": "139db0f8",
   "metadata": {},
   "outputs": [
    {
     "name": "stdout",
     "output_type": "stream",
     "text": [
      "[7, 6, 5, 3, 1]\n"
     ]
    }
   ],
   "source": [
    "def sort_ascending(arr):\n",
    "    arr.sort(reverse=True)\n",
    "    return arr\n",
    "\n",
    "print(sort_ascending([5, 3, 6, 1, 7]))"
   ]
  },
  {
   "cell_type": "code",
   "execution_count": null,
   "id": "0043ca48",
   "metadata": {},
   "outputs": [],
   "source": [
    "import string\n",
    "\n",
    "def remove_punctuation(input_str):\n",
    "    out_str = input_str.translate(str.maketrans(\"\", \"\", string.punctuation))\n",
    "    return out_str\n",
    "\n",
    "input_str = \"A text containing punctuation marks!!!\"\n",
    "out_str = remove_punctuation(input_str)\n",
    "print(out_str)"
   ]
  },
  {
   "cell_type": "code",
   "execution_count": 20,
   "id": "1a9a0f37",
   "metadata": {},
   "outputs": [
    {
     "name": "stdout",
     "output_type": "stream",
     "text": [
      "[124, 92, 87]\n"
     ]
    }
   ],
   "source": [
    "numbers = [1, 43, 124, 87, 92]\n",
    "top3 = sorted(numbers, reverse=True)[:3]\n",
    "print(top3)"
   ]
  },
  {
   "cell_type": "code",
   "execution_count": 21,
   "id": "78b77a61",
   "metadata": {},
   "outputs": [
    {
     "name": "stdout",
     "output_type": "stream",
     "text": [
      "70\n"
     ]
    }
   ],
   "source": [
    "def find_max(arr):\n",
    "    return max(arr)\n",
    "\n",
    "print(find_max([40, 50, 11, 70, 39]))"
   ]
  },
  {
   "cell_type": "code",
   "execution_count": 24,
   "id": "7562c62a",
   "metadata": {},
   "outputs": [
    {
     "name": "stdout",
     "output_type": "stream",
     "text": [
      "[2, 4, 6, 8]\n"
     ]
    }
   ],
   "source": [
    "my_list = [2, 3, 4, 5, 6, 7, 8, 9]\n",
    "new_list = [num for num in my_list if num % 2 == 0]\n",
    "print(new_list)"
   ]
  },
  {
   "cell_type": "code",
   "execution_count": 26,
   "id": "b3675300",
   "metadata": {},
   "outputs": [
    {
     "name": "stdout",
     "output_type": "stream",
     "text": [
      "[1, 2, 3, 4, 7, 8]\n"
     ]
    }
   ],
   "source": [
    "def remove_duplicates(nums): \n",
    "    return list(set(nums))\n",
    "\n",
    "print(remove_duplicates([1,2,3,4,4,2,7,8,8,1]))"
   ]
  },
  {
   "cell_type": "code",
   "execution_count": 31,
   "id": "1e026cc9",
   "metadata": {},
   "outputs": [
    {
     "name": "stdout",
     "output_type": "stream",
     "text": [
      "to sf\n"
     ]
    }
   ],
   "source": [
    "def extract_substring(string, start, end):\n",
    "    return string[7:11]\n",
    "\n",
    "print(extract_substring('Python is fun', 7, 11))"
   ]
  },
  {
   "cell_type": "code",
   "execution_count": 37,
   "id": "1f02a5d2",
   "metadata": {},
   "outputs": [
    {
     "name": "stdout",
     "output_type": "stream",
     "text": [
      "[20]\n"
     ]
    }
   ],
   "source": [
    "def filter_divisible_by_5(numbers):\n",
    "    # Filter numbers divisible by 5 using list comprehension\n",
    "    return [num for num in numbers if num % 5 == 0]\n",
    "\n",
    "# Test the function\n",
    "print(filter_divisible_by_5([11, 23, 7, 20, 44, 16, 9]))"
   ]
  },
  {
   "cell_type": "code",
   "execution_count": 44,
   "id": "ba329d99",
   "metadata": {},
   "outputs": [
    {
     "name": "stdout",
     "output_type": "stream",
     "text": [
      "9ST1Q5SZ\n"
     ]
    }
   ],
   "source": [
    "import random \n",
    "import string \n",
    "\n",
    "length = 8\n",
    "random_str = ''.join(random.choices(string.ascii_letters + string.digits, k = length)) \n",
    "print(random_str)"
   ]
  },
  {
   "cell_type": "code",
   "execution_count": 45,
   "id": "a7378ca4",
   "metadata": {},
   "outputs": [
    {
     "name": "stdout",
     "output_type": "stream",
     "text": [
      "2\n"
     ]
    }
   ],
   "source": [
    "def search_index(arr, target):\n",
    "    for i, num in enumerate(arr):\n",
    "        if num == target:\n",
    "            return i\n",
    "\n",
    "print(search_index([5, 7, 8, 6], 8))"
   ]
  },
  {
   "cell_type": "code",
   "execution_count": 47,
   "id": "5a263cf6",
   "metadata": {},
   "outputs": [
    {
     "name": "stdout",
     "output_type": "stream",
     "text": [
      "World! Hello,\n"
     ]
    }
   ],
   "source": [
    "def reverse_words(string):\n",
    "    return ' '.join(string.split()[::-1])\n",
    "\n",
    "print(reverse_words(\"Hello, World!\"))"
   ]
  },
  {
   "cell_type": "code",
   "execution_count": 49,
   "id": "50f381c0",
   "metadata": {},
   "outputs": [
    {
     "name": "stdout",
     "output_type": "stream",
     "text": [
      "05/05/2025\n"
     ]
    }
   ],
   "source": [
    "from datetime import datetime\n",
    "\n",
    "current_date = datetime.now()\n",
    "\n",
    "date_formatted = current_date.strftime(\"%m/%d/%Y\")\n",
    "\n",
    "print(date_formatted)"
   ]
  },
  {
   "cell_type": "code",
   "execution_count": 52,
   "id": "8bea6f6e",
   "metadata": {},
   "outputs": [
    {
     "name": "stdout",
     "output_type": "stream",
     "text": [
      "['sun', 'world', 'moon', 'hello']\n"
     ]
    }
   ],
   "source": [
    "strings = ['hello', 'world', 'hello', 'moon', 'sun']\n",
    "new_strings = list(set(strings))\n",
    "print(new_strings)"
   ]
  },
  {
   "cell_type": "code",
   "execution_count": 57,
   "id": "453de9e2",
   "metadata": {},
   "outputs": [
    {
     "name": "stdout",
     "output_type": "stream",
     "text": [
      "100\n",
      "99\n",
      "98\n",
      "97\n",
      "96\n",
      "95\n",
      "94\n",
      "93\n",
      "92\n",
      "91\n",
      "90\n",
      "89\n",
      "88\n",
      "87\n",
      "86\n",
      "85\n",
      "84\n",
      "83\n",
      "82\n",
      "81\n",
      "80\n",
      "79\n",
      "78\n",
      "77\n",
      "76\n",
      "75\n",
      "74\n",
      "73\n",
      "72\n",
      "71\n",
      "70\n",
      "69\n",
      "68\n",
      "67\n",
      "66\n",
      "65\n",
      "64\n",
      "63\n",
      "62\n",
      "61\n",
      "60\n",
      "59\n",
      "58\n",
      "57\n",
      "56\n",
      "55\n",
      "54\n",
      "53\n",
      "52\n",
      "51\n",
      "50\n",
      "49\n",
      "48\n",
      "47\n",
      "46\n",
      "45\n",
      "44\n",
      "43\n",
      "42\n",
      "41\n",
      "40\n",
      "39\n",
      "38\n",
      "37\n",
      "36\n",
      "35\n",
      "34\n",
      "33\n",
      "32\n",
      "31\n",
      "30\n",
      "29\n",
      "28\n",
      "27\n",
      "26\n",
      "25\n",
      "24\n",
      "23\n",
      "22\n",
      "21\n",
      "20\n",
      "19\n",
      "18\n",
      "17\n",
      "16\n",
      "15\n",
      "14\n",
      "13\n",
      "12\n",
      "11\n",
      "10\n",
      "9\n",
      "8\n",
      "7\n",
      "6\n",
      "5\n",
      "4\n",
      "3\n",
      "2\n",
      "1\n"
     ]
    }
   ],
   "source": [
    "for i in range(100, 0, -1):\n",
    "    print(i)"
   ]
  },
  {
   "cell_type": "code",
   "execution_count": 60,
   "id": "b8c9f1ff",
   "metadata": {},
   "outputs": [
    {
     "name": "stdout",
     "output_type": "stream",
     "text": [
      "[('Python', 1), ('is', 1), ('an', 1), ('interpreted,', 1), ('high-level,', 1)]\n"
     ]
    }
   ],
   "source": [
    "import collections\n",
    " \n",
    "sentence = \"Python is an interpreted, high-level, general-purpose programming language.\"\n",
    " \n",
    "# Split sentence into words\n",
    "words = sentence.split()\n",
    " \n",
    "# Set the counter for words\n",
    "counter = collections.Counter(words)\n",
    " \n",
    "# Find top 5 most frequent words\n",
    "result = counter.most_common(5)\n",
    "print(result)"
   ]
  },
  {
   "cell_type": "code",
   "execution_count": 62,
   "id": "aa7db956",
   "metadata": {},
   "outputs": [
    {
     "name": "stdout",
     "output_type": "stream",
     "text": [
      "[1, 2, 3]\n"
     ]
    }
   ],
   "source": [
    "def remove_elements(list1, list2):\n",
    "    return [num for num in list1 if num not in list2]\n",
    "\n",
    "print(remove_elements([1, 2, 3, 4, 5],[4, 5, 6]))"
   ]
  },
  {
   "cell_type": "code",
   "execution_count": 63,
   "id": "8ce2d9ca",
   "metadata": {},
   "outputs": [
    {
     "name": "stdout",
     "output_type": "stream",
     "text": [
      "[3, 4]\n"
     ]
    }
   ],
   "source": [
    "def intersection(arr1, arr2):\n",
    "    return [num for num in arr1 if num in arr2]\n",
    "\n",
    "print(intersection([1, 2, 3, 4], [3, 4, 5, 6]))"
   ]
  },
  {
   "cell_type": "code",
   "execution_count": 64,
   "id": "197a5626",
   "metadata": {},
   "outputs": [
    {
     "name": "stdout",
     "output_type": "stream",
     "text": [
      "Index of  3 is  2\n"
     ]
    }
   ],
   "source": [
    "def indexFinder(arr, target): \n",
    "    for i, num in enumerate(arr):\n",
    "        if num == target:\n",
    "            return i\n",
    "\n",
    "arr = [1, 2, 3, 4]\n",
    "target = 3\n",
    "\n",
    "print(\"Index of % d is % d\" %(target, indexFinder(arr, target)))"
   ]
  },
  {
   "cell_type": "code",
   "execution_count": 65,
   "id": "6726450a",
   "metadata": {},
   "outputs": [
    {
     "name": "stdout",
     "output_type": "stream",
     "text": [
      "[-4, 1, 4, 5, 6, 7, 8, 9]\n"
     ]
    }
   ],
   "source": [
    "def optimize_array(A):\n",
    "    return sorted(A)\n",
    "\n",
    "print(optimize_array([5, 4, 8, 9, 6, 1, -4, 7]))"
   ]
  },
  {
   "cell_type": "code",
   "execution_count": 67,
   "id": "4bdcbbd8",
   "metadata": {},
   "outputs": [
    {
     "name": "stdout",
     "output_type": "stream",
     "text": [
      "Hello World\n"
     ]
    }
   ],
   "source": [
    "def mergeStrings(str1, str2):\n",
    "    return ' '.join([str1, str2])\n",
    "\n",
    "print(mergeStrings('Hello', 'World'))"
   ]
  },
  {
   "cell_type": "code",
   "execution_count": 68,
   "id": "016b6d6a",
   "metadata": {},
   "outputs": [
    {
     "name": "stdout",
     "output_type": "stream",
     "text": [
      "Hello, World!\n"
     ]
    }
   ],
   "source": [
    "import string\n",
    "def toTitlecase(inputString):\n",
    "    return inputString.title()\n",
    "\n",
    "print(toTitlecase(\"Hello, world!\"))"
   ]
  },
  {
   "cell_type": "code",
   "execution_count": 69,
   "id": "a95261b6",
   "metadata": {},
   "outputs": [
    {
     "name": "stdout",
     "output_type": "stream",
     "text": [
      "Thisinputcontainsspecialcharacters\n"
     ]
    }
   ],
   "source": [
    "import re\n",
    "input = 'This input contains \" special characters!'\n",
    "filtered_string = re.sub(r'[^a-zA-Z0-9]', '', input)\n",
    "print(filtered_string)"
   ]
  },
  {
   "cell_type": "code",
   "execution_count": 72,
   "id": "f6d8b633",
   "metadata": {},
   "outputs": [
    {
     "name": "stdout",
     "output_type": "stream",
     "text": [
      "HW\n"
     ]
    }
   ],
   "source": [
    "def extract_capitals(string):\n",
    "    capitals = \"\"\n",
    "    for lett in string:\n",
    "        if lett == lett.upper() and lett.isalpha():\n",
    "            capitals += lett\n",
    "    return capitals\n",
    "\n",
    "print(extract_capitals(\"Hello World!\"))\n"
   ]
  },
  {
   "cell_type": "code",
   "execution_count": 73,
   "id": "02e0ea1e",
   "metadata": {},
   "outputs": [
    {
     "name": "stdout",
     "output_type": "stream",
     "text": [
      "Generated number: 7\n",
      "Generated number: 10\n",
      "Generated number: 1\n",
      "Generated number: 4\n",
      "Generated number: 10\n"
     ]
    }
   ],
   "source": [
    "import random\n",
    "\n",
    "def generate_random_numbers(count):\n",
    "    for _ in range(count):\n",
    "        number = random.randint(1, 10)\n",
    "        print(\"Generated number:\", number)\n",
    "\n",
    "# Example usage\n",
    "generate_random_numbers(5)"
   ]
  }
 ],
 "metadata": {
  "kernelspec": {
   "display_name": "Python 3",
   "language": "python",
   "name": "python3"
  },
  "language_info": {
   "codemirror_mode": {
    "name": "ipython",
    "version": 3
   },
   "file_extension": ".py",
   "mimetype": "text/x-python",
   "name": "python",
   "nbconvert_exporter": "python",
   "pygments_lexer": "ipython3",
   "version": "3.13.2"
  }
 },
 "nbformat": 4,
 "nbformat_minor": 5
}
